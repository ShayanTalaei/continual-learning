{
 "cells": [
  {
   "cell_type": "code",
   "execution_count": 2,
   "id": "e77c4b08",
   "metadata": {},
   "outputs": [
    {
     "name": "stderr",
     "output_type": "stream",
     "text": [
      "/scratch/m000122/bcabrown/miniconda/envs/brad/lib/python3.12/site-packages/pydantic/_internal/_generate_schema.py:2249: UnsupportedFieldAttributeWarning: The 'repr' attribute with value False was provided to the `Field()` function, which has no effect in the context it was used. 'repr' is field-specific metadata, and can only be attached to a model field using `Annotated` metadata or by assignment. This may have happened because an `Annotated` type alias using the `type` statement was used, or if the `Field()` function was attached to a single member of a union type.\n",
      "  warnings.warn(\n",
      "/scratch/m000122/bcabrown/miniconda/envs/brad/lib/python3.12/site-packages/pydantic/_internal/_generate_schema.py:2249: UnsupportedFieldAttributeWarning: The 'frozen' attribute with value True was provided to the `Field()` function, which has no effect in the context it was used. 'frozen' is field-specific metadata, and can only be attached to a model field using `Annotated` metadata or by assignment. This may have happened because an `Annotated` type alias using the `type` statement was used, or if the `Field()` function was attached to a single member of a union type.\n",
      "  warnings.warn(\n"
     ]
    }
   ],
   "source": [
    "from tqdm import tqdm\n",
    "import torch\n",
    "import os\n",
    "import sys\n",
    "sys.path.append(\"/scratch/m000122/bcabrown/continual-learning\")\n",
    "sys.path.append(\"/scratch/m000122/bcabrown/continual-learning/third_party/cartridges\")\n",
    "os.environ[\"CARTRIDGES_DIR\"] = \"/scratch/m000122/bcabrown/continual-learning/third_party/cartridges\"\n",
    "os.environ[\"CARTRIDGES_OUTPUT_DIR\"] = \"/scratch/m000122/bcabrown/continual-learning/third_party/cartridges/output\"\n",
    "from third_party.cartridges.cartridges.datasets import read_conversations"
   ]
  },
  {
   "cell_type": "code",
   "execution_count": 7,
   "id": "70277a60",
   "metadata": {},
   "outputs": [],
   "source": [
    "data_paths = {\n",
    "    \"cheating\": \"/scratch/m000122/stalaei/logs/continual_learning/data/finer_v1_large_train_random_50_subsampling_16x6400_temp_0.7/dataset.jsonl\",\n",
    "    \"100\": \"/scratch/m000122/stalaei/logs/continual_learning/data/finer_v1_train_ICL_exclude_current_subsampling_50_temp_0.7/dataset.jsonl\",\n",
    "    \"rag1k\": \"/scratch/m000122/stalaei/logs/continual_learning/data/finer_v1_train_ICL_rag_vector_db_ep_001000_top20_temp_0.7/dataset.jsonl\",\n",
    "}"
   ]
  },
  {
   "cell_type": "code",
   "execution_count": null,
   "id": "425e185e",
   "metadata": {},
   "outputs": [
    {
     "name": "stderr",
     "output_type": "stream",
     "text": [
      "  0%|          | 0/3 [00:00<?, ?it/s]"
     ]
    }
   ],
   "source": [
    "convos = {\n",
    "    k: read_conversations(v) for k, v in tqdm(data_paths.items())\n",
    "}"
   ]
  },
  {
   "cell_type": "code",
   "execution_count": null,
   "id": "9f237d18",
   "metadata": {},
   "outputs": [],
   "source": []
  }
 ],
 "metadata": {
  "kernelspec": {
   "display_name": "brad",
   "language": "python",
   "name": "python3"
  },
  "language_info": {
   "codemirror_mode": {
    "name": "ipython",
    "version": 3
   },
   "file_extension": ".py",
   "mimetype": "text/x-python",
   "name": "python",
   "nbconvert_exporter": "python",
   "pygments_lexer": "ipython3",
   "version": "3.12.12"
  }
 },
 "nbformat": 4,
 "nbformat_minor": 5
}
