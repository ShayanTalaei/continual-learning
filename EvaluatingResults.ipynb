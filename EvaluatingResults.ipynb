{
 "cells": [
  {
   "cell_type": "code",
   "execution_count": null,
   "metadata": {},
   "outputs": [],
   "source": [
    "import sys\n",
    "import os\n",
    "import json\n",
    "from glob import glob\n",
    "import shutil"
   ]
  },
  {
   "cell_type": "code",
   "execution_count": 2,
   "metadata": {},
   "outputs": [],
   "source": [
    "from dynamic_cheatsheet.utils.evaluation import eval_for_GameOf24, eval_for_exact_matching_with_no_punctuation, eval_for_multiple_choice, eval_equation_balancer"
   ]
  },
  {
   "cell_type": "code",
   "execution_count": 3,
   "metadata": {},
   "outputs": [],
   "source": [
    "# Open JSONL file\n",
    "def read_jsonl(file_path):\n",
    "    with open(file_path, \"r\") as file:\n",
    "        return [json.loads(line) for line in file.readlines()]"
   ]
  },
  {
   "cell_type": "code",
   "execution_count": null,
   "metadata": {},
   "outputs": [],
   "source": [
    "for TASK in [\"AIME_2024\", \"AIME_2025\", \"AIME_2020_2024\", \"GameOf24\", \"GPQA_Diamond\", \"MMLU_Pro_Engineering\", \"MMLU_Pro_Physics\", \"MathEquationBalancer\"]:\n",
    "    files = glob(f\"results/{TASK}/**/**/*.jsonl\", recursive=True)\n",
    "    files = list(set(files))\n",
    "    files.sort()\n",
    "    print(TASK)\n",
    "\n",
    "    for file in files:\n",
    "        data = read_jsonl(file)\n",
    "\n",
    "        correct_n = 0\n",
    "        total_n = len(data)\n",
    "        \n",
    "        for idx, example in enumerate(data):\n",
    "            input = example[\"input\"].strip()\n",
    "            target = example[\"target\"].strip()\n",
    "            model_output = example['steps'][-1]['generator_output'].strip()\n",
    "            if \"<answer>\" in model_output:\n",
    "                final_answer = model_output.split(\"<answer>\")[1].split(\"</answer>\")[0].strip()\n",
    "            else:\n",
    "                # print(f\"Could not find <answer> in the model output for the example {idx}.\")\n",
    "                final_answer = model_output\n",
    "                \n",
    "            result = False\n",
    "            if TASK == \"GameOf24\":\n",
    "                numbers = input.split(\"\\n\")[-1].strip()\n",
    "                result = eval_for_GameOf24(numbers, final_answer)\n",
    "                correct_n += result\n",
    "            elif TASK in [\"AIME_2025\", \"AIME_2024\", \"AIME_2020_2024\"]:\n",
    "                final_answer = final_answer.split(\"boxed{\")[-1].split(\"}\")[0].strip()\n",
    "                result = eval_for_exact_matching_with_no_punctuation(final_answer.lower(), target.lower())\n",
    "                correct_n += result\n",
    "            elif TASK in [\"GPQA_Diamond\", \"MMLU_Pro_Engineering\", \"MMLU_Pro_Physics\"]:\n",
    "                result = result = eval_for_multiple_choice(input, final_answer, target)\n",
    "                correct_n += result\n",
    "            elif TASK == \"MathEquationBalancer\":\n",
    "                result = eval_equation_balancer(None, final_answer, target)\n",
    "                correct_n += result\n",
    "\n",
    "        print(f\"{file}:\\n{correct_n}/{total_n} ({correct_n/total_n:.2%})\\n\")\n",
    "\n",
    "    print('--------------------------------')"
   ]
  },
  {
   "cell_type": "code",
   "execution_count": null,
   "metadata": {},
   "outputs": [],
   "source": []
  }
 ],
 "metadata": {
  "kernelspec": {
   "display_name": "anyscale",
   "language": "python",
   "name": "python3"
  },
  "language_info": {
   "codemirror_mode": {
    "name": "ipython",
    "version": 3
   },
   "file_extension": ".py",
   "mimetype": "text/x-python",
   "name": "python",
   "nbconvert_exporter": "python",
   "pygments_lexer": "ipython3",
   "version": "3.11.8"
  }
 },
 "nbformat": 4,
 "nbformat_minor": 2
}
